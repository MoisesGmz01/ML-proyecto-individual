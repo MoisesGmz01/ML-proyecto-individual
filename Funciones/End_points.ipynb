{
 "cells": [
  {
   "cell_type": "code",
   "execution_count": 24,
   "metadata": {},
   "outputs": [],
   "source": [
    "import pandas as pd\n",
    "import ast\n",
    "import pyarrow\n",
    "import json\n",
    "import gzip\n",
    "import pandas as pd\n",
    "import pyarrow as pa\n",
    "import pyarrow.parquet as pq\n"
   ]
  },
  {
   "cell_type": "code",
   "execution_count": 25,
   "metadata": {},
   "outputs": [],
   "source": [
    "games= pd.read_parquet(r'C:\\Users\\Moises\\Desktop\\Projecto invidual 1\\archivos limpios\\games.parquet')\n",
    "df = pd.read_parquet(r'C:\\Users\\Moises\\Desktop\\Projecto invidual 1\\archivos limpios\\games.parquet')\n",
    "reviews = pd.read_parquet(r'C:\\Users\\Moises\\Desktop\\Projecto invidual 1\\archivos limpios\\reviews.parquet')\n",
    "item_user = pd.read_parquet(r'C:\\Users\\Moises\\Desktop\\Projecto invidual 1\\archivos limpios\\items.parquet')\n",
    "data_final =pd.read_parquet(r'C:\\Users\\Moises\\Desktop\\Projecto invidual 1\\archivos limpios\\data_final.parquet')"
   ]
  },
  {
   "cell_type": "code",
   "execution_count": 26,
   "metadata": {},
   "outputs": [],
   "source": [
    "df_1=games[['developer','release_date','price','title']]\n",
    "df_1=df_1.drop_duplicates(subset=['developer','title']).copy()"
   ]
  },
  {
   "cell_type": "code",
   "execution_count": 27,
   "metadata": {},
   "outputs": [],
   "source": [
    "def developer(developer: str):\n",
    "    if developer not in list(df['developer']):\n",
    "        return {'El desarrollador no se encuentra en la base de datos'}\n",
    "\n",
    "    fechas = df['release_date'].unique()  # --- > Obtiene las fechas únicas de lanzamiento\n",
    "\n",
    "    anio = {} \n",
    "    free = {} \n",
    "\n",
    "    for x in fechas:\n",
    "        filter_condition = (df['release_date'] == x) & (df['developer'] == developer) \n",
    "        developer_releases = df[filter_condition]  # --- > Filtra los lanzamientos del desarrollador\n",
    "\n",
    "        if len(developer_releases) != 0:\n",
    "            anio[x] = len(developer_releases)  # --- > Almacena la cantidad de lanzamientos del desarrollador\n",
    "            free[x] = len(developer_releases[developer_releases['price'] == 0.0])  # --- > Almacena la cantidad de lanzamientos gratuitos\n",
    "\n",
    "    for x, y in free.items():\n",
    "        free[x] = f\"{round((y / anio[x]) * 100, 2)}%\"  # --- > Calcula el porcentaje de lanzamientos gratuitos respecto al total por año\n",
    "\n",
    "    # --- > Convierte las claves del diccionario 'anio' y 'free' a cadenas\n",
    "    anio = {str(k): v for k, v in anio.items()}\n",
    "    free = {str(k): v for k, v in free.items()}\n",
    "\n",
    "    resultado = {'Cantidad de Items': anio, 'Contenido Free': free} \n",
    "\n",
    "    return resultado  # --- > Devuelve el resultado"
   ]
  },
  {
   "cell_type": "code",
   "execution_count": 28,
   "metadata": {},
   "outputs": [
    {
     "data": {
      "text/plain": [
       "{'Cantidad de Items': {'2017': 3,\n",
       "  '1998': 1,\n",
       "  '2016': 1,\n",
       "  '2006': 2,\n",
       "  '2005': 1,\n",
       "  '2003': 1,\n",
       "  '2007': 4,\n",
       "  '2000': 2,\n",
       "  '2001': 1,\n",
       "  '2004': 5,\n",
       "  '1999': 1,\n",
       "  '2008': 1,\n",
       "  '2009': 1,\n",
       "  '2010': 2,\n",
       "  '2011': 2,\n",
       "  '2012': 3,\n",
       "  '2014': 9},\n",
       " 'Contenido Free': {'2017': '0.0%',\n",
       "  '1998': '0.0%',\n",
       "  '2016': '100.0%',\n",
       "  '2006': '0.0%',\n",
       "  '2005': '100.0%',\n",
       "  '2003': '0.0%',\n",
       "  '2007': '50.0%',\n",
       "  '2000': '0.0%',\n",
       "  '2001': '0.0%',\n",
       "  '2004': '0.0%',\n",
       "  '1999': '0.0%',\n",
       "  '2008': '0.0%',\n",
       "  '2009': '0.0%',\n",
       "  '2010': '50.0%',\n",
       "  '2011': '0.0%',\n",
       "  '2012': '66.67%',\n",
       "  '2014': '100.0%'}}"
      ]
     },
     "execution_count": 28,
     "metadata": {},
     "output_type": "execute_result"
    }
   ],
   "source": [
    "developer('Valve')"
   ]
  },
  {
   "cell_type": "code",
   "execution_count": 29,
   "metadata": {},
   "outputs": [],
   "source": [
    "df_2=data_final[['user_id','title','price','items_count','recommend']]\n",
    "df_2=df_2.drop_duplicates(subset=['user_id','title'], keep='first').copy()"
   ]
  },
  {
   "cell_type": "code",
   "execution_count": 30,
   "metadata": {},
   "outputs": [],
   "source": [
    "def user_info(user: str):\n",
    "    try:\n",
    "        if user not in df_2['user_id'].unique():\n",
    "            return {f'El usuario {user}, no existe.'}\n",
    "        else:\n",
    "            df=df_2[df_2['user_id']==user]\n",
    "            resultado = {\n",
    "                'Usuario': user,\n",
    "                'Dinero gastado': df['price'].sum(),\n",
    "                'cantidad de items': df['items_count'].head(1).to_list()[0],\n",
    "                'Porcentaje de recomendaciones': f'{float(round((df['recommend'].sum()/df[\"items_count\"].head(1).to_list()[0])*100,2))}%'\n",
    "            }\n",
    "\n",
    "        return resultado\n",
    "    except:\n",
    "        return {'El usuario no se encuentra en la base de datos.'}"
   ]
  },
  {
   "cell_type": "code",
   "execution_count": 31,
   "metadata": {},
   "outputs": [
    {
     "data": {
      "text/plain": [
       "{'76561197970982479': {'Usuario': '76561197970982479',\n",
       "  'Dinero gastado': 29.979999999999997,\n",
       "  'cantidad de items': 277,\n",
       "  'Porcentaje de recomendaciones': '0.72%'},\n",
       " 'js41637': {'Usuario': 'js41637',\n",
       "  'Dinero gastado': 29.979999999999997,\n",
       "  'cantidad de items': 888,\n",
       "  'Porcentaje de recomendaciones': '0.23%'},\n",
       " 'evcentric': {'Usuario': 'evcentric',\n",
       "  'Dinero gastado': 68.94,\n",
       "  'cantidad de items': 137,\n",
       "  'Porcentaje de recomendaciones': '4.38%'},\n",
       " 'doctr': {'Usuario': 'doctr',\n",
       "  'Dinero gastado': 99.94999999999999,\n",
       "  'cantidad de items': 541,\n",
       "  'Porcentaje de recomendaciones': '1.11%'},\n",
       " 'maplemage': {'Usuario': 'maplemage',\n",
       "  'Dinero gastado': 49.97,\n",
       "  'cantidad de items': 629,\n",
       "  'Porcentaje de recomendaciones': '0.64%'}}"
      ]
     },
     "execution_count": 31,
     "metadata": {},
     "output_type": "execute_result"
    }
   ],
   "source": [
    "usuarios_2=df_2['user_id'].unique()\n",
    "diccionario={}\n",
    "for i in usuarios_2[:5]:\n",
    "    diccionario[i]=user_info(i)\n",
    "diccionario"
   ]
  },
  {
   "cell_type": "code",
   "execution_count": 32,
   "metadata": {},
   "outputs": [],
   "source": [
    "df_3=data_final[['developer','release_date','title','user_id','recommend','sentiment_analysis']]\n",
    "df_3=df_3.drop_duplicates(subset=['developer','title','user_id'], keep='first').copy()"
   ]
  },
  {
   "cell_type": "code",
   "execution_count": 33,
   "metadata": {},
   "outputs": [],
   "source": [
    "df_3['release_date']=df_3['release_date'].astype(int).copy()"
   ]
  },
  {
   "cell_type": "code",
   "execution_count": 34,
   "metadata": {},
   "outputs": [],
   "source": [
    "def developer_of_year(year: int):\n",
    "    if year in df_3['release_date'].unique():\n",
    "        anio=df_3[df_3['release_date']==year].sort_values(by='release_date', ascending=False)\n",
    "        anio['rating']=anio['recommend']+anio['sentiment_analysis']\n",
    "        respuesta=anio.groupby(by='developer')['rating'].sum().reset_index()\n",
    "        respuesta.columns=['Desarrollador','Cantidad']\n",
    "        respuesta=respuesta.sort_values(by='Cantidad', ascending=False).head(3).reset_index(drop=True)\n",
    "        respuesta.index+=1\n",
    "        return respuesta\n",
    "    else:\n",
    "        respuesta = f'Error: inserte un año que se encuentre en el rango {df_3['release_date'].min()} - {df_3['release_date'].max()}'\n",
    "    return respuesta"
   ]
  },
  {
   "cell_type": "code",
   "execution_count": 35,
   "metadata": {},
   "outputs": [
    {
     "data": {
      "text/html": [
       "<div>\n",
       "<style scoped>\n",
       "    .dataframe tbody tr th:only-of-type {\n",
       "        vertical-align: middle;\n",
       "    }\n",
       "\n",
       "    .dataframe tbody tr th {\n",
       "        vertical-align: top;\n",
       "    }\n",
       "\n",
       "    .dataframe thead th {\n",
       "        text-align: right;\n",
       "    }\n",
       "</style>\n",
       "<table border=\"1\" class=\"dataframe\">\n",
       "  <thead>\n",
       "    <tr style=\"text-align: right;\">\n",
       "      <th></th>\n",
       "      <th>Desarrollador</th>\n",
       "      <th>Cantidad</th>\n",
       "    </tr>\n",
       "  </thead>\n",
       "  <tbody>\n",
       "    <tr>\n",
       "      <th>1</th>\n",
       "      <td>Edge of Reality</td>\n",
       "      <td>715</td>\n",
       "    </tr>\n",
       "    <tr>\n",
       "      <th>2</th>\n",
       "      <td>Coffee Stain Studios</td>\n",
       "      <td>510</td>\n",
       "    </tr>\n",
       "    <tr>\n",
       "      <th>3</th>\n",
       "      <td>New World Interactive</td>\n",
       "      <td>426</td>\n",
       "    </tr>\n",
       "  </tbody>\n",
       "</table>\n",
       "</div>"
      ],
      "text/plain": [
       "           Desarrollador  Cantidad\n",
       "1        Edge of Reality       715\n",
       "2   Coffee Stain Studios       510\n",
       "3  New World Interactive       426"
      ]
     },
     "execution_count": 35,
     "metadata": {},
     "output_type": "execute_result"
    }
   ],
   "source": [
    "developer_of_year(2014)"
   ]
  },
  {
   "cell_type": "code",
   "execution_count": 36,
   "metadata": {},
   "outputs": [],
   "source": [
    "df_4=data_final[['developer','user_id','sentiment_analysis']]\n",
    "df_4=df_4.drop_duplicates(subset=['developer','user_id'],keep='first').copy()"
   ]
  },
  {
   "cell_type": "code",
   "execution_count": 37,
   "metadata": {},
   "outputs": [],
   "source": [
    "def review_developer(dev: str):\n",
    "    try:\n",
    "        df=df_4[df_4['developer']==dev]\n",
    "        positivo=df[df['sentiment_analysis']==2].shape[0]\n",
    "        negativo=df[df['sentiment_analysis']==0].shape[0]\n",
    "        respuesta = pd.DataFrame([{'Desarrollador':dev,'Positivo':positivo,'Negativo':negativo}])\n",
    "        return respuesta\n",
    "    except:\n",
    "        return {'No ingreso un valor relevante, o el desarrollador no tiene Resenias'}"
   ]
  },
  {
   "cell_type": "code",
   "execution_count": 38,
   "metadata": {},
   "outputs": [
    {
     "data": {
      "text/html": [
       "<div>\n",
       "<style scoped>\n",
       "    .dataframe tbody tr th:only-of-type {\n",
       "        vertical-align: middle;\n",
       "    }\n",
       "\n",
       "    .dataframe tbody tr th {\n",
       "        vertical-align: top;\n",
       "    }\n",
       "\n",
       "    .dataframe thead th {\n",
       "        text-align: right;\n",
       "    }\n",
       "</style>\n",
       "<table border=\"1\" class=\"dataframe\">\n",
       "  <thead>\n",
       "    <tr style=\"text-align: right;\">\n",
       "      <th></th>\n",
       "      <th>Desarrollador</th>\n",
       "      <th>Positivo</th>\n",
       "      <th>Negativo</th>\n",
       "    </tr>\n",
       "  </thead>\n",
       "  <tbody>\n",
       "    <tr>\n",
       "      <th>0</th>\n",
       "      <td>Valve</td>\n",
       "      <td>2556</td>\n",
       "      <td>580</td>\n",
       "    </tr>\n",
       "  </tbody>\n",
       "</table>\n",
       "</div>"
      ],
      "text/plain": [
       "  Desarrollador  Positivo  Negativo\n",
       "0         Valve      2556       580"
      ]
     },
     "execution_count": 38,
     "metadata": {},
     "output_type": "execute_result"
    }
   ],
   "source": [
    "review_developer('Valve')"
   ]
  },
  {
   "cell_type": "code",
   "execution_count": 39,
   "metadata": {},
   "outputs": [
    {
     "data": {
      "text/html": [
       "<div>\n",
       "<style scoped>\n",
       "    .dataframe tbody tr th:only-of-type {\n",
       "        vertical-align: middle;\n",
       "    }\n",
       "\n",
       "    .dataframe tbody tr th {\n",
       "        vertical-align: top;\n",
       "    }\n",
       "\n",
       "    .dataframe thead th {\n",
       "        text-align: right;\n",
       "    }\n",
       "</style>\n",
       "<table border=\"1\" class=\"dataframe\">\n",
       "  <thead>\n",
       "    <tr style=\"text-align: right;\">\n",
       "      <th></th>\n",
       "      <th>user_id</th>\n",
       "      <th>playtime_forever</th>\n",
       "      <th>genres</th>\n",
       "      <th>release_date</th>\n",
       "    </tr>\n",
       "  </thead>\n",
       "  <tbody>\n",
       "    <tr>\n",
       "      <th>3568535</th>\n",
       "      <td>76561198040340682</td>\n",
       "      <td>619.0</td>\n",
       "      <td>Action</td>\n",
       "      <td>2013</td>\n",
       "    </tr>\n",
       "    <tr>\n",
       "      <th>5669596</th>\n",
       "      <td>76561198044020758</td>\n",
       "      <td>2997.0</td>\n",
       "      <td>Massively Multiplayer</td>\n",
       "      <td>2016</td>\n",
       "    </tr>\n",
       "    <tr>\n",
       "      <th>1850439</th>\n",
       "      <td>Dwash</td>\n",
       "      <td>455.0</td>\n",
       "      <td>Casual</td>\n",
       "      <td>2010</td>\n",
       "    </tr>\n",
       "    <tr>\n",
       "      <th>5417041</th>\n",
       "      <td>76561198068153515</td>\n",
       "      <td>2903.0</td>\n",
       "      <td>Sports</td>\n",
       "      <td>2014</td>\n",
       "    </tr>\n",
       "    <tr>\n",
       "      <th>1589582</th>\n",
       "      <td>76561198067170839</td>\n",
       "      <td>589.0</td>\n",
       "      <td>Strategy</td>\n",
       "      <td>2012</td>\n",
       "    </tr>\n",
       "  </tbody>\n",
       "</table>\n",
       "</div>"
      ],
      "text/plain": [
       "                   user_id  playtime_forever                 genres  \\\n",
       "3568535  76561198040340682             619.0                 Action   \n",
       "5669596  76561198044020758            2997.0  Massively Multiplayer   \n",
       "1850439              Dwash             455.0                 Casual   \n",
       "5417041  76561198068153515            2903.0                 Sports   \n",
       "1589582  76561198067170839             589.0               Strategy   \n",
       "\n",
       "        release_date  \n",
       "3568535         2013  \n",
       "5669596         2016  \n",
       "1850439         2010  \n",
       "5417041         2014  \n",
       "1589582         2012  "
      ]
     },
     "execution_count": 39,
     "metadata": {},
     "output_type": "execute_result"
    }
   ],
   "source": [
    "df_5=pd.read_parquet(r'C:\\Users\\Moises\\Desktop\\Projecto invidual 1\\archivos limpios\\criterio3.parquet')\n",
    "df_5.head()"
   ]
  },
  {
   "cell_type": "code",
   "execution_count": 40,
   "metadata": {},
   "outputs": [],
   "source": [
    "def user_for_genre(gen: str):\n",
    "    try:\n",
    "        df=df_5[df_5['genres']==gen]\n",
    "        usuario= df.groupby('user_id')['playtime_forever'].sum().idxmax(0)\n",
    "        df_full=df[df['user_id']==usuario]\n",
    "        horas=df_full.groupby('release_date')['playtime_forever'].sum().reset_index()\n",
    "        horas.sort_values(by='release_date',ascending=False,inplace=True)\n",
    "        horas.columns=['Año','Tiempo']\n",
    "        horas_str = horas.to_string(index=False)\n",
    "        return f'El usuario con mayor tiempo acumulado jugando juegos del genero {gen} es: {usuario}\\n {horas_str}'\n",
    "    except:\n",
    "        return 'Error: el valor ingresado no se encuentra en el dataset o valor incorrecto'"
   ]
  },
  {
   "cell_type": "code",
   "execution_count": 41,
   "metadata": {},
   "outputs": [
    {
     "name": "stdout",
     "output_type": "stream",
     "text": [
      "El usuario con mayor tiempo acumulado jugando juegos del genero Action es: shinomegami\n",
      "  Año   Tiempo\n",
      "2009 291169.0\n",
      "2003 162201.0\n",
      "2000 759464.0\n"
     ]
    }
   ],
   "source": [
    "mensaje=user_for_genre('Action')\n",
    "print(mensaje)"
   ]
  }
 ],
 "metadata": {
  "kernelspec": {
   "display_name": "Python 3",
   "language": "python",
   "name": "python3"
  },
  "language_info": {
   "codemirror_mode": {
    "name": "ipython",
    "version": 3
   },
   "file_extension": ".py",
   "mimetype": "text/x-python",
   "name": "python",
   "nbconvert_exporter": "python",
   "pygments_lexer": "ipython3",
   "version": "3.12.2"
  }
 },
 "nbformat": 4,
 "nbformat_minor": 2
}
