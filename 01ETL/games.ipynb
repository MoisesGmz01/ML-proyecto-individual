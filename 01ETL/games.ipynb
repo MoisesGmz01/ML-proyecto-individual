{
 "cells": [
  {
   "cell_type": "code",
   "execution_count": null,
   "metadata": {},
   "outputs": [],
   "source": [
    "# Importar la biblioteca pandas para el análisis de datos\n",
    "import pandas as pd\n",
    "# Importar el módulo re para trabajar con expresiones regulares\n",
    "import re"
   ]
  },
  {
   "cell_type": "code",
   "execution_count": null,
   "metadata": {},
   "outputs": [],
   "source": [
    "# Cargar el archivo JSON en un DataFrame de pandas\n",
    "# El parámetro 'r' antes de la cadena de la ruta indica que es una cadena de texto sin formato (raw string),\n",
    "# lo que significa que los caracteres de escape no se interpretan. Esto es útil para las rutas de archivo en Windows.\n",
    "df_games = pd.read_json(r'C:\\Users\\Moises\\Desktop\\Projecto invidual 1\\archivos crudos\\output_steam_games.json', lines = True)"
   ]
  },
  {
   "cell_type": "code",
   "execution_count": null,
   "metadata": {},
   "outputs": [],
   "source": [
    "# Mostrar las primeras filas del DataFrame df_games\n",
    "df_games.head()"
   ]
  },
  {
   "cell_type": "code",
   "execution_count": null,
   "metadata": {},
   "outputs": [],
   "source": [
    "# Eliminar las filas con valores nulos en la columna 'id' y crear un nuevo DataFrame df_games_full\n",
    "df_games_full= df_games.dropna(subset='id', axis= 0)\n",
    "# Mostrar la forma (número de filas y columnas) del DataFrame df_games_full\n",
    "df_games_full.shape"
   ]
  },
  {
   "cell_type": "code",
   "execution_count": null,
   "metadata": {},
   "outputs": [],
   "source": [
    "# Examino el Dataframe\n",
    "df_games_full"
   ]
  },
  {
   "cell_type": "code",
   "execution_count": null,
   "metadata": {},
   "outputs": [],
   "source": [
    "def precio_float(precio: str) -> float:\n",
    "    \"\"\"\n",
    "    Convierte una cadena que representa un precio en un valor flotante.\n",
    "\n",
    "    Parameters:\n",
    "    precio (str): Cadena que representa el precio.\n",
    "\n",
    "    Returns:\n",
    "    float: Valor flotante del precio. Si la conversión falla, devuelve 0.0.\n",
    "    \"\"\"\n",
    "    try:\n",
    "        return float(precio)\n",
    "    except (ValueError, TypeError):\n",
    "        return 0.0\n",
    "\n"
   ]
  },
  {
   "cell_type": "code",
   "execution_count": null,
   "metadata": {},
   "outputs": [],
   "source": [
    "# Aplicar la función precio_float a cada valor de la columna 'price' del DataFrame df_games_full\n",
    "df_games_full['price']=df_games_full['price'].apply(precio_float)"
   ]
  },
  {
   "cell_type": "code",
   "execution_count": null,
   "metadata": {},
   "outputs": [],
   "source": [
    "df_games_full"
   ]
  },
  {
   "cell_type": "code",
   "execution_count": null,
   "metadata": {},
   "outputs": [],
   "source": [
    "# Lista de columnas a eliminar\n",
    "columnas_no=['publisher','app_name','url','tags','specs','early_access','reviews_url']\n",
    "# Lista de columnas a conservar\n",
    "columnas_si=['genres','title','release_date','price','id','developer']\n",
    "# Eliminar las columnas especificadas en la lista columnas_no\n",
    "df_games_full.drop(columns=columnas_no, inplace=True)"
   ]
  },
  {
   "cell_type": "code",
   "execution_count": null,
   "metadata": {},
   "outputs": [],
   "source": [
    "# Calcular la cantidad de valores nulos en cada columna del DataFrame df_games_full\n",
    "df_games_full.isnull().sum()\n",
    "# Eliminar las filas con valores nulos en alguna de las columnas especificadas en la lista columnas_si\n",
    "df_games_full.dropna(subset=columnas_si, inplace=True)\n",
    "# Mostrar la forma (número de filas y columnas) del DataFrame df_games_full después de eliminar las filas con valores nulos\n",
    "df_games_full.shape"
   ]
  },
  {
   "cell_type": "code",
   "execution_count": null,
   "metadata": {},
   "outputs": [],
   "source": [
    "df_games_full"
   ]
  },
  {
   "cell_type": "code",
   "execution_count": null,
   "metadata": {},
   "outputs": [],
   "source": [
    "def solo_anio(cadena: str) -> str|None: \n",
    "    \"\"\"\n",
    "    Extrae el año de una cadena.\n",
    "\n",
    "    Parameters:\n",
    "    cadena (str): La cadena de entrada que puede contener un año.\n",
    "\n",
    "    Returns:\n",
    "    str|None: El año encontrado en la cadena, o None si no se encuentra.\n",
    "    \"\"\"\n",
    "    # Utilizar expresiones regulares para buscar un patrón de cuatro dígitos seguidos (un año) en la cadena\n",
    "    find=re.search(r'(\\d{4})', str(cadena))\n",
    "\n",
    "    if find:\n",
    "                # Si se encuentra un año, devolverlo como cadena\n",
    "\n",
    "        return find.group(1)\n",
    "    else:\n",
    "                # Si no se encuentra un año, devolver None\n",
    "\n",
    "        return None"
   ]
  },
  {
   "cell_type": "code",
   "execution_count": null,
   "metadata": {},
   "outputs": [],
   "source": [
    "# Aplicar la función solo_anio a cada valor de la columna 'release_date' del DataFrame df_games_full\n",
    "df_games_full['release_date']=df_games_full['release_date'].apply(solo_anio)"
   ]
  },
  {
   "cell_type": "code",
   "execution_count": null,
   "metadata": {},
   "outputs": [],
   "source": [
    "df_games_full=df_games_full.explode('genres') #desanida los juegos por el genero"
   ]
  },
  {
   "cell_type": "code",
   "execution_count": null,
   "metadata": {},
   "outputs": [],
   "source": [
    "df_games_full"
   ]
  }
 ],
 "metadata": {
  "kernelspec": {
   "display_name": "Python 3",
   "language": "python",
   "name": "python3"
  },
  "language_info": {
   "codemirror_mode": {
    "name": "ipython",
    "version": 3
   },
   "file_extension": ".py",
   "mimetype": "text/x-python",
   "name": "python",
   "nbconvert_exporter": "python",
   "pygments_lexer": "ipython3",
   "version": "3.12.2"
  }
 },
 "nbformat": 4,
 "nbformat_minor": 2
}
