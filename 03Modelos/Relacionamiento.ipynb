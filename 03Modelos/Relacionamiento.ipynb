{
 "cells": [
  {
   "cell_type": "code",
   "execution_count": 2,
   "metadata": {},
   "outputs": [],
   "source": [
    "import pandas as pd\n",
    "#Es una clase de búsqueda de cuadrícula que ayuda a encontrar los mejores hiperparámetros para un algoritmo de recomendación utilizando validación cruzada.\n",
    "from surprise.model_selection import GridSearchCV, train_test_split\n",
    "'''\n",
    "surprise.SVD: Es un algoritmo de factorización matricial para sistemas de recomendación implementado en la biblioteca Surprise.\n",
    "surprise.Dataset: Es una clase que representa un conjunto de datos en formato adecuado para su uso con algoritmos de recomendación de Surprise.\n",
    "surprise.Reader: Es una clase utilizada para especificar el formato de los datos de entrada.\n",
    "surprise.accuracy: Es un módulo que proporciona funciones para calcular métricas de precisión para los modelos de recomendación.\n",
    "'''\n",
    "from surprise import SVD, Dataset, Reader, accuracy\n",
    "import pickle"
   ]
  },
  {
   "cell_type": "code",
   "execution_count": 3,
   "metadata": {},
   "outputs": [],
   "source": [
    "games=pd.read_parquet(r'C:\\Users\\Moises\\Desktop\\Projecto invidual 1\\archivos limpios\\games.parquet')\n",
    "items=pd.read_parquet(r'C:\\Users\\Moises\\Desktop\\Projecto invidual 1\\archivos limpios\\items.parquet')\n",
    "reviews=pd.read_parquet(r'C:\\Users\\Moises\\Desktop\\Projecto invidual 1\\archivos limpios\\reviews.parquet')\n",
    "final=pd.read_parquet(r'C:\\Users\\Moises\\Desktop\\Projecto invidual 1\\archivos limpios\\data_final.parquet')"
   ]
  },
  {
   "cell_type": "code",
   "execution_count": 4,
   "metadata": {},
   "outputs": [
    {
     "name": "stdout",
     "output_type": "stream",
     "text": [
      "             user_id item_id  recommend  sentiment_analysis\n",
      "0  76561197970982479    1250       True                   1\n",
      "0  76561197970982479   22200       True                   2\n",
      "0  76561197970982479   43110       True                   1\n",
      "1            js41637  251610       True                   1\n",
      "1            js41637  227300       True                   1\n",
      "(59305, 4)\n"
     ]
    }
   ],
   "source": [
    "print(reviews.head())\n",
    "print(reviews.shape)"
   ]
  },
  {
   "cell_type": "code",
   "execution_count": 5,
   "metadata": {},
   "outputs": [
    {
     "name": "stderr",
     "output_type": "stream",
     "text": [
      "C:\\Users\\Moises\\AppData\\Local\\Temp\\ipykernel_8884\\3376326048.py:1: FutureWarning: A value is trying to be set on a copy of a DataFrame or Series through chained assignment using an inplace method.\n",
      "The behavior will change in pandas 3.0. This inplace method will never work because the intermediate object on which we are setting values always behaves as a copy.\n",
      "\n",
      "For example, when doing 'df[col].method(value, inplace=True)', try using 'df.method({col: value}, inplace=True)' or df[col] = df[col].method(value) instead, to perform the operation inplace on the original object.\n",
      "\n",
      "\n",
      "  final['recommend'].replace({True:1,False:0}, inplace=True)\n",
      "C:\\Users\\Moises\\AppData\\Local\\Temp\\ipykernel_8884\\3376326048.py:1: FutureWarning: Downcasting behavior in `replace` is deprecated and will be removed in a future version. To retain the old behavior, explicitly call `result.infer_objects(copy=False)`. To opt-in to the future behavior, set `pd.set_option('future.no_silent_downcasting', True)`\n",
      "  final['recommend'].replace({True:1,False:0}, inplace=True)\n"
     ]
    }
   ],
   "source": [
    "# Reemplazar los valores booleanos en la columna 'recommend' con valores numéricos\n",
    "\n",
    "final['recommend'].replace({True:1,False:0}, inplace=True)\n"
   ]
  },
  {
   "cell_type": "code",
   "execution_count": 6,
   "metadata": {},
   "outputs": [],
   "source": [
    "# Crear una nueva columna 'Rating' que sea la suma de 'recommend' y 'sentiment_analysis'\n",
    "\n",
    "final['Ratting']=final['recommend']+final['sentiment_analysis']"
   ]
  },
  {
   "cell_type": "code",
   "execution_count": 7,
   "metadata": {},
   "outputs": [
    {
     "data": {
      "text/html": [
       "<div>\n",
       "<style scoped>\n",
       "    .dataframe tbody tr th:only-of-type {\n",
       "        vertical-align: middle;\n",
       "    }\n",
       "\n",
       "    .dataframe tbody tr th {\n",
       "        vertical-align: top;\n",
       "    }\n",
       "\n",
       "    .dataframe thead th {\n",
       "        text-align: right;\n",
       "    }\n",
       "</style>\n",
       "<table border=\"1\" class=\"dataframe\">\n",
       "  <thead>\n",
       "    <tr style=\"text-align: right;\">\n",
       "      <th></th>\n",
       "      <th>user_id</th>\n",
       "      <th>item_id</th>\n",
       "      <th>recommend</th>\n",
       "      <th>sentiment_analysis</th>\n",
       "      <th>genres</th>\n",
       "      <th>title</th>\n",
       "      <th>release_date</th>\n",
       "      <th>price</th>\n",
       "      <th>developer</th>\n",
       "      <th>items_count</th>\n",
       "      <th>playtime_forever</th>\n",
       "      <th>playtime_2weeks</th>\n",
       "      <th>Ratting</th>\n",
       "    </tr>\n",
       "  </thead>\n",
       "  <tbody>\n",
       "    <tr>\n",
       "      <th>0</th>\n",
       "      <td>76561197970982479</td>\n",
       "      <td>1250</td>\n",
       "      <td>1</td>\n",
       "      <td>1</td>\n",
       "      <td>Action</td>\n",
       "      <td>Killing Floor</td>\n",
       "      <td>2009</td>\n",
       "      <td>19.99</td>\n",
       "      <td>Tripwire Interactive</td>\n",
       "      <td>277</td>\n",
       "      <td>6.0</td>\n",
       "      <td>0.0</td>\n",
       "      <td>2</td>\n",
       "    </tr>\n",
       "    <tr>\n",
       "      <th>1</th>\n",
       "      <td>76561197970982479</td>\n",
       "      <td>1250</td>\n",
       "      <td>1</td>\n",
       "      <td>1</td>\n",
       "      <td>Action</td>\n",
       "      <td>Killing Floor</td>\n",
       "      <td>2009</td>\n",
       "      <td>19.99</td>\n",
       "      <td>Tripwire Interactive</td>\n",
       "      <td>277</td>\n",
       "      <td>0.0</td>\n",
       "      <td>0.0</td>\n",
       "      <td>2</td>\n",
       "    </tr>\n",
       "    <tr>\n",
       "      <th>2</th>\n",
       "      <td>76561197970982479</td>\n",
       "      <td>1250</td>\n",
       "      <td>1</td>\n",
       "      <td>1</td>\n",
       "      <td>Action</td>\n",
       "      <td>Killing Floor</td>\n",
       "      <td>2009</td>\n",
       "      <td>19.99</td>\n",
       "      <td>Tripwire Interactive</td>\n",
       "      <td>277</td>\n",
       "      <td>7.0</td>\n",
       "      <td>0.0</td>\n",
       "      <td>2</td>\n",
       "    </tr>\n",
       "    <tr>\n",
       "      <th>3</th>\n",
       "      <td>76561197970982479</td>\n",
       "      <td>1250</td>\n",
       "      <td>1</td>\n",
       "      <td>1</td>\n",
       "      <td>Action</td>\n",
       "      <td>Killing Floor</td>\n",
       "      <td>2009</td>\n",
       "      <td>19.99</td>\n",
       "      <td>Tripwire Interactive</td>\n",
       "      <td>277</td>\n",
       "      <td>4733.0</td>\n",
       "      <td>0.0</td>\n",
       "      <td>2</td>\n",
       "    </tr>\n",
       "    <tr>\n",
       "      <th>4</th>\n",
       "      <td>76561197970982479</td>\n",
       "      <td>1250</td>\n",
       "      <td>1</td>\n",
       "      <td>1</td>\n",
       "      <td>Action</td>\n",
       "      <td>Killing Floor</td>\n",
       "      <td>2009</td>\n",
       "      <td>19.99</td>\n",
       "      <td>Tripwire Interactive</td>\n",
       "      <td>277</td>\n",
       "      <td>1853.0</td>\n",
       "      <td>0.0</td>\n",
       "      <td>2</td>\n",
       "    </tr>\n",
       "  </tbody>\n",
       "</table>\n",
       "</div>"
      ],
      "text/plain": [
       "             user_id  item_id  recommend  sentiment_analysis  genres  \\\n",
       "0  76561197970982479     1250          1                   1  Action   \n",
       "1  76561197970982479     1250          1                   1  Action   \n",
       "2  76561197970982479     1250          1                   1  Action   \n",
       "3  76561197970982479     1250          1                   1  Action   \n",
       "4  76561197970982479     1250          1                   1  Action   \n",
       "\n",
       "           title release_date  price             developer  items_count  \\\n",
       "0  Killing Floor         2009  19.99  Tripwire Interactive          277   \n",
       "1  Killing Floor         2009  19.99  Tripwire Interactive          277   \n",
       "2  Killing Floor         2009  19.99  Tripwire Interactive          277   \n",
       "3  Killing Floor         2009  19.99  Tripwire Interactive          277   \n",
       "4  Killing Floor         2009  19.99  Tripwire Interactive          277   \n",
       "\n",
       "   playtime_forever  playtime_2weeks  Ratting  \n",
       "0               6.0              0.0        2  \n",
       "1               0.0              0.0        2  \n",
       "2               7.0              0.0        2  \n",
       "3            4733.0              0.0        2  \n",
       "4            1853.0              0.0        2  "
      ]
     },
     "execution_count": 7,
     "metadata": {},
     "output_type": "execute_result"
    }
   ],
   "source": [
    "final.head()"
   ]
  },
  {
   "cell_type": "code",
   "execution_count": 8,
   "metadata": {},
   "outputs": [],
   "source": [
    "# Crear un nuevo DataFrame 'prueba' con las columnas 'user_id', 'title' y 'Rating' de 'final'\n",
    "\n",
    "prueba=final[['user_id','title','Ratting']]"
   ]
  },
  {
   "cell_type": "code",
   "execution_count": 9,
   "metadata": {},
   "outputs": [
    {
     "data": {
      "text/html": [
       "<div>\n",
       "<style scoped>\n",
       "    .dataframe tbody tr th:only-of-type {\n",
       "        vertical-align: middle;\n",
       "    }\n",
       "\n",
       "    .dataframe tbody tr th {\n",
       "        vertical-align: top;\n",
       "    }\n",
       "\n",
       "    .dataframe thead th {\n",
       "        text-align: right;\n",
       "    }\n",
       "</style>\n",
       "<table border=\"1\" class=\"dataframe\">\n",
       "  <thead>\n",
       "    <tr style=\"text-align: right;\">\n",
       "      <th></th>\n",
       "      <th>user_id</th>\n",
       "      <th>title</th>\n",
       "      <th>Ratting</th>\n",
       "    </tr>\n",
       "  </thead>\n",
       "  <tbody>\n",
       "    <tr>\n",
       "      <th>0</th>\n",
       "      <td>76561197970982479</td>\n",
       "      <td>Killing Floor</td>\n",
       "      <td>2</td>\n",
       "    </tr>\n",
       "    <tr>\n",
       "      <th>1</th>\n",
       "      <td>76561197970982479</td>\n",
       "      <td>Killing Floor</td>\n",
       "      <td>2</td>\n",
       "    </tr>\n",
       "    <tr>\n",
       "      <th>2</th>\n",
       "      <td>76561197970982479</td>\n",
       "      <td>Killing Floor</td>\n",
       "      <td>2</td>\n",
       "    </tr>\n",
       "    <tr>\n",
       "      <th>3</th>\n",
       "      <td>76561197970982479</td>\n",
       "      <td>Killing Floor</td>\n",
       "      <td>2</td>\n",
       "    </tr>\n",
       "    <tr>\n",
       "      <th>4</th>\n",
       "      <td>76561197970982479</td>\n",
       "      <td>Killing Floor</td>\n",
       "      <td>2</td>\n",
       "    </tr>\n",
       "  </tbody>\n",
       "</table>\n",
       "</div>"
      ],
      "text/plain": [
       "             user_id          title  Ratting\n",
       "0  76561197970982479  Killing Floor        2\n",
       "1  76561197970982479  Killing Floor        2\n",
       "2  76561197970982479  Killing Floor        2\n",
       "3  76561197970982479  Killing Floor        2\n",
       "4  76561197970982479  Killing Floor        2"
      ]
     },
     "execution_count": 9,
     "metadata": {},
     "output_type": "execute_result"
    }
   ],
   "source": [
    "prueba.head()"
   ]
  },
  {
   "cell_type": "code",
   "execution_count": 10,
   "metadata": {},
   "outputs": [],
   "source": [
    "# Crear una muestra aleatoria del 5% de las filas del DataFrame 'prueba'\n",
    "\n",
    "muestra=prueba.sample(frac=0.05, random_state=42)"
   ]
  },
  {
   "cell_type": "code",
   "execution_count": 11,
   "metadata": {},
   "outputs": [],
   "source": [
    "# Crear un objeto Reader con una escala de calificación personalizada de 0 a 3\n",
    "reader=Reader(rating_scale=(0, 3)) \n",
    "# Cargar los datos del DataFrame muestra en un objeto Dataset utilizando el formato especificado por el objeto Reader\n",
    "data=Dataset.load_from_df(muestra,reader)"
   ]
  },
  {
   "cell_type": "code",
   "execution_count": 12,
   "metadata": {},
   "outputs": [
    {
     "name": "stdout",
     "output_type": "stream",
     "text": [
      "Mejores parámetros encontrados: {'n_factors': 100, 'n_epochs': 50, 'lr_all': 0.01, 'reg_all': 0, 'random_state': 0}\n"
     ]
    }
   ],
   "source": [
    "# Definir el conjunto de parámetros para la búsqueda de cuadrícula\n",
    "param_grid = {\n",
    "    'n_factors': [0, 100], # Número de factores latentes\n",
    "    'n_epochs': [0, 50], # Número de épocas de entrenamiento\n",
    "    'lr_all': [0, 0.01], # Tasa de aprendizaje para todos los parámetros\n",
    "    'reg_all': [0, 0.05], # Término de regularización para todos los parámetros\n",
    "    'random_state': [0, 42] # Semilla aleatoria para reproducibilidad\n",
    "}\n",
    "# Inicializar el modelo SVD\n",
    "model = SVD()\n",
    "# Inicializar la búsqueda de cuadrícula\n",
    "grid_search = GridSearchCV(SVD, param_grid, measures=['rmse'], cv=3)\n",
    "# Realizar la búsqueda de cuadrícula en los datos\n",
    "grid_search.fit(data)\n",
    "# Obtener los mejores parámetros encontrados\n",
    "best_params = grid_search.best_params['rmse']\n",
    "# Imprimir los mejores parámetros encontrados\n",
    "print(\"Mejores parámetros encontrados:\", best_params)"
   ]
  },
  {
   "cell_type": "code",
   "execution_count": 13,
   "metadata": {},
   "outputs": [],
   "source": [
    "# Cargar los datos del DataFrame 'prueba' en un objeto Dataset utilizando el formato especificado por el objeto Reader\n",
    "data_prueba=Dataset.load_from_df(prueba,reader)"
   ]
  },
  {
   "cell_type": "code",
   "execution_count": 14,
   "metadata": {},
   "outputs": [
    {
     "name": "stdout",
     "output_type": "stream",
     "text": [
      "RMSE: 0.0839\n",
      "RMSE: 0.08389298489708154\n"
     ]
    }
   ],
   "source": [
    "from surprise import accuracy\n",
    "# Dividir los datos en conjuntos de entrenamiento y prueba\n",
    "trainset, testset=train_test_split(data, test_size=0.2)\n",
    "# Inicializar el modelo SVD con los mejores hiperparámetros encontrados\n",
    "model=SVD(n_factors=100,n_epochs=50,lr_all=0.01,reg_all=0,random_state=42)\n",
    "# Entrenar el modelo en el conjunto de entrenamiento\n",
    "model.fit(trainset)\n",
    "# Hacer predicciones en el conjunto de prueba\n",
    "predictions=model.test(testset)\n",
    "# Calcular el error cuadrático medio de raíz (RMSE)\n",
    "rmse=accuracy.rmse(predictions)\n",
    "# Imprimir el RMSE\n",
    "print(f\"RMSE: {rmse}\")"
   ]
  },
  {
   "cell_type": "code",
   "execution_count": 15,
   "metadata": {},
   "outputs": [],
   "source": [
    "def recomendaciones_usuario(usuario: str):\n",
    "    if usuario not in prueba['user_id'].unique():\n",
    "        # Si el usuario no está en la lista de usuarios del conjunto de datos\n",
    "        # Se seleccionan aleatoriamente 5 juegos para recomendar\n",
    "        juegos_aleatorios = list(prueba['title'].sample(5))\n",
    "        mensaje = f'El usuario {usuario} no posee ningún item en su biblioteca, por lo que la recomendación será aleatoria.'\n",
    "        return {mensaje: juegos_aleatorios}\n",
    "    else:\n",
    "        diccionario = {}\n",
    "        \n",
    "        # Se obtienen los juegos valorados por el usuario\n",
    "        juegos_valorados = prueba[prueba['user_id'] == usuario]['title'].unique()\n",
    "        todos_los_juegos = prueba['title'].unique()\n",
    "        \n",
    "        # Se encuentran los juegos no valorados por el usuario\n",
    "        juegos_no_valorados = list(set(todos_los_juegos) - set(juegos_valorados))\n",
    "\n",
    "        # Se generan predicciones para los juegos no valorados\n",
    "        predicciones = [model.predict(usuario, juego) for juego in juegos_no_valorados]\n",
    "        \n",
    "        # Se seleccionan las 5 mejores recomendaciones basadas en las predicciones\n",
    "        recomendaciones = sorted(predicciones, key=lambda x: x.est, reverse=True)[:5] \n",
    "        cont = 1\n",
    "        for recomendacion in recomendaciones:\n",
    "            # Se crea un diccionario de las 5 mejores recomendaciones\n",
    "            diccionario[f'Top {cont}'] = recomendacion.iid\n",
    "            cont += 1\n",
    "            \n",
    "        return {f'Usuario: {usuario}': diccionario}"
   ]
  },
  {
   "cell_type": "code",
   "execution_count": 16,
   "metadata": {},
   "outputs": [
    {
     "data": {
      "text/plain": [
       "{'El usuario Freejam no posee ningún item en su biblioteca, por lo que la recomendación será aleatoria.': ['Goat Simulator',\n",
       "  'StarDrive',\n",
       "  'The Stanley Parable',\n",
       "  'DayZ',\n",
       "  'Clicker Heroes']}"
      ]
     },
     "execution_count": 16,
     "metadata": {},
     "output_type": "execute_result"
    }
   ],
   "source": [
    "testeo1 = recomendaciones_usuario('Freejam')\n",
    "testeo1"
   ]
  },
  {
   "cell_type": "code",
   "execution_count": 17,
   "metadata": {},
   "outputs": [
    {
     "data": {
      "text/plain": [
       "{'76561197970982479': {'Usuario: 76561197970982479': {'Top 1': \"Garry's Mod\",\n",
       "   'Top 2': 'Rocket League®',\n",
       "   'Top 3': 'Team Fortress 2',\n",
       "   'Top 4': 'Choice of Robots',\n",
       "   'Top 5': 'Trine Enchanted Edition'}},\n",
       " 'js41637': {'Usuario: js41637': {'Top 1': \"King Arthur's Gold\",\n",
       "   'Top 2': 'Realm of the Mad God',\n",
       "   'Top 3': 'PlanetSide 2',\n",
       "   'Top 4': 'Homeworld Remastered Collection',\n",
       "   'Top 5': 'Company of Heroes 2'}},\n",
       " 'evcentric': {'Usuario: evcentric': {'Top 1': 'Team Fortress 2',\n",
       "   'Top 2': \"Sid Meier's Civilization® V\",\n",
       "   'Top 3': 'Just Cause 2: Multiplayer Mod',\n",
       "   'Top 4': 'The Walking Dead: Season 2',\n",
       "   'Top 5': 'The Wolf Among Us'}},\n",
       " 'doctr': {'Usuario: doctr': {'Top 1': 'Assassin’s Creed® IV Black Flag™',\n",
       "   'Top 2': 'X-Plane 10 Global - 64 Bit',\n",
       "   'Top 3': 'Euro Truck Simulator 2',\n",
       "   'Top 4': 'Hyperdimension Neptunia Re;Birth1 / 超次次元ゲイム ネプテューヌRe;Birth1 / 超次次元遊戲戰機少女重生1',\n",
       "   'Top 5': 'Team Fortress 2'}},\n",
       " 'maplemage': {'Usuario: maplemage': {'Top 1': 'Crysis 2 - Maximum Edition',\n",
       "   'Top 2': 'The Inner World',\n",
       "   'Top 3': 'Choice of Robots',\n",
       "   'Top 4': 'Source Filmmaker',\n",
       "   'Top 5': 'WAKFU'}}}"
      ]
     },
     "execution_count": 17,
     "metadata": {},
     "output_type": "execute_result"
    }
   ],
   "source": [
    "usuarios = prueba['user_id'].unique() # --- > Testeo diferentes usuarios para comprobar su comportamiento\n",
    "\n",
    "diccionario = {}\n",
    "\n",
    "for x in usuarios[:5]:\n",
    "    \n",
    "    diccionario[x] = recomendaciones_usuario(x)\n",
    "\n",
    "diccionario"
   ]
  },
  {
   "cell_type": "code",
   "execution_count": 18,
   "metadata": {},
   "outputs": [],
   "source": [
    "#lo convierto a parquet\n",
    "prueba.to_parquet(r'C:\\Users\\Moises\\Desktop\\Projecto invidual 1\\archivos limpios\\Relacionamiento.parquet',index=False)"
   ]
  },
  {
   "cell_type": "code",
   "execution_count": 19,
   "metadata": {},
   "outputs": [],
   "source": [
    "#y ahora lo guardo como pkl\n",
    "with open (r'C:\\Users\\Moises\\Desktop\\Projecto invidual 1\\03Modelos\\Relacionamiento.pkl', 'wb') as file:\n",
    "    pickle.dump(model,file)"
   ]
  }
 ],
 "metadata": {
  "kernelspec": {
   "display_name": "Python 3",
   "language": "python",
   "name": "python3"
  },
  "language_info": {
   "codemirror_mode": {
    "name": "ipython",
    "version": 3
   },
   "file_extension": ".py",
   "mimetype": "text/x-python",
   "name": "python",
   "nbconvert_exporter": "python",
   "pygments_lexer": "ipython3",
   "version": "3.12.2"
  }
 },
 "nbformat": 4,
 "nbformat_minor": 2
}
